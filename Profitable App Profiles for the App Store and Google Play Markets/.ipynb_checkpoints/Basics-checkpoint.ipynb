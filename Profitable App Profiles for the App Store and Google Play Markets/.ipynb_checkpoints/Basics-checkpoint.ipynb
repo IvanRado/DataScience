{
 "cells": [
  {
   "cell_type": "markdown",
   "metadata": {},
   "source": [
    "# Profitable App Profiles for the Apple Store and Google Play Market \n",
    "\n",
    "Many of the apps available on the Apple Store and Google Play Market are free to download. This means that the revenue stream for such apps is largely based on ad-revenue. In the code below, we will examine which app types provide the greatest opportunity for in-app revenue based on the information pulled from the Apple Store and Google Play data sets. \n",
    "\n",
    "We will begin by taking a look at the available data for both the Apple Store and the Google Play Market. We begin by importing the necessary files and functions from the csv library. We then extract the data into a list to be more malleable for further data analysis. We will print the first few lines of both data sets to get an idea of what the data looks like.\n",
    "\n",
    "First we will take a look at the Apple Store data set. We will print out the first five rows in the data set to get an idea of what format the data has. Next we will print out the size of the data set to get a feel for how much data we are working with. Finally, we will print out the header row of the data set to see what each column represents. Detailed information on what the column names represent can be found [here](https://www.kaggle.com/ramamet4/app-store-apple-data-set-10k-apps/home)."
   ]
  },
  {
   "cell_type": "code",
   "execution_count": 1,
   "metadata": {
    "collapsed": false
   },
   "outputs": [
    {
     "name": "stdout",
     "output_type": "stream",
     "text": [
      "['284882215', 'Facebook', '389879808', 'USD', '0.0', '2974676', '212', '3.5', '3.5', '95.0', '4+', 'Social Networking', '37', '1', '29', '1']\n",
      "\n",
      "\n",
      "['389801252', 'Instagram', '113954816', 'USD', '0.0', '2161558', '1289', '4.5', '4.0', '10.23', '12+', 'Photo & Video', '37', '0', '29', '1']\n",
      "\n",
      "\n",
      "['529479190', 'Clash of Clans', '116476928', 'USD', '0.0', '2130805', '579', '4.5', '4.5', '9.24.12', '9+', 'Games', '38', '5', '18', '1']\n",
      "\n",
      "\n",
      "['420009108', 'Temple Run', '65921024', 'USD', '0.0', '1724546', '3842', '4.5', '4.0', '1.6.2', '9+', 'Games', '40', '5', '1', '1']\n",
      "\n",
      "\n",
      "['284035177', 'Pandora - Music & Radio', '130242560', 'USD', '0.0', '1126879', '3594', '4.0', '4.5', '8.4.1', '12+', 'Music', '37', '4', '1', '1']\n",
      "\n",
      "\n",
      "['429047995', 'Pinterest', '74778624', 'USD', '0.0', '1061624', '1814', '4.5', '4.0', '6.26', '12+', 'Social Networking', '37', '5', '27', '1']\n",
      "\n",
      "\n",
      "Number of Rows: 7198, Number of Columns: 16\n",
      "\n",
      "\n",
      "['id', 'track_name', 'size_bytes', 'currency', 'price', 'rating_count_tot', 'rating_count_ver', 'user_rating', 'user_rating_ver', 'ver', 'cont_rating', 'prime_genre', 'sup_devices.num', 'ipadSc_urls.num', 'lang.num', 'vpp_lic']\n"
     ]
    }
   ],
   "source": [
    "from csv import reader\n",
    "opened_file_apple = open('AppleStore.csv')\n",
    "opened_file_gp = open('googleplaystore.csv')\n",
    "read_file_apple = reader(opened_file_apple)\n",
    "read_file_gp = reader(opened_file_gp)\n",
    "\n",
    "apple_data = list(read_file_apple)\n",
    "gp_data = list(read_file_gp)\n",
    "\n",
    "def explore_data(dataset, start, end, rows_and_columns=False):\n",
    "    dataset_slice = dataset[start:end]    \n",
    "    for row in dataset_slice:\n",
    "        print(row)\n",
    "        print('\\n') # adds a new (empty) line after each row\n",
    "\n",
    "    if rows_and_columns:\n",
    "        print('Number of rows:', len(dataset))\n",
    "        print('Number of columns:', len(dataset[0]))\n",
    "        \n",
    "explore_data(apple_data[1:], 0, 6)\n",
    "nrow_apple = len(apple_data)\n",
    "ncol_apple = len(apple_data[0])\n",
    "print('Number of Rows: ' + str(nrow_apple) + ', Number of Columns: ' + str(ncol_apple))\n",
    "\n",
    "print('\\n')\n",
    "print(apple_data[0])"
   ]
  },
  {
   "cell_type": "markdown",
   "metadata": {
    "collapsed": true
   },
   "source": [
    "Looking at this output, we can see that our data set is stored in a 7198 x 16 list (not including the header row). The data set seems to contain a number of metrics that may be useful to our goal. For example, we should only be dealing with apps that are free, so apps with a price value not equal to 0.0 should not be considered in our analysis. Furthermore we can see the number of user reviews for current versions of the app, hinting at the app's current active user base as well as the historical user base. This may give us some idea of whether or not the user base is consistent, growing or shrinking and whether or not such an app has a sustainable future for in-app ad revenue.\n",
    "\n",
    "Now, let us do the same for the information from the Google Play Market. A more thorough description of the column names can be found [here](https://www.kaggle.com/lava18/google-play-store-apps/version/6)."
   ]
  },
  {
   "cell_type": "code",
   "execution_count": 2,
   "metadata": {
    "collapsed": false
   },
   "outputs": [
    {
     "name": "stdout",
     "output_type": "stream",
     "text": [
      "['Photo Editor & Candy Camera & Grid & ScrapBook', 'ART_AND_DESIGN', '4.1', '159', '19M', '10,000+', 'Free', '0', 'Everyone', 'Art & Design', 'January 7, 2018', '1.0.0', '4.0.3 and up']\n",
      "\n",
      "\n",
      "['Coloring book moana', 'ART_AND_DESIGN', '3.9', '967', '14M', '500,000+', 'Free', '0', 'Everyone', 'Art & Design;Pretend Play', 'January 15, 2018', '2.0.0', '4.0.3 and up']\n",
      "\n",
      "\n",
      "['U Launcher Lite – FREE Live Cool Themes, Hide Apps', 'ART_AND_DESIGN', '4.7', '87510', '8.7M', '5,000,000+', 'Free', '0', 'Everyone', 'Art & Design', 'August 1, 2018', '1.2.4', '4.0.3 and up']\n",
      "\n",
      "\n",
      "['Sketch - Draw & Paint', 'ART_AND_DESIGN', '4.5', '215644', '25M', '50,000,000+', 'Free', '0', 'Teen', 'Art & Design', 'June 8, 2018', 'Varies with device', '4.2 and up']\n",
      "\n",
      "\n",
      "['Pixel Draw - Number Art Coloring Book', 'ART_AND_DESIGN', '4.3', '967', '2.8M', '100,000+', 'Free', '0', 'Everyone', 'Art & Design;Creativity', 'June 20, 2018', '1.1', '4.4 and up']\n",
      "\n",
      "\n",
      "['Paper flowers instructions', 'ART_AND_DESIGN', '4.4', '167', '5.6M', '50,000+', 'Free', '0', 'Everyone', 'Art & Design', 'March 26, 2017', '1.0', '2.3 and up']\n",
      "\n",
      "\n",
      "Number of Rows: 10842, Number of Columns: 13\n",
      "\n",
      "\n",
      "['App', 'Category', 'Rating', 'Reviews', 'Size', 'Installs', 'Type', 'Price', 'Content Rating', 'Genres', 'Last Updated', 'Current Ver', 'Android Ver']\n"
     ]
    }
   ],
   "source": [
    "explore_data(gp_data[1:], 0, 6)\n",
    "nrow_gp = len(gp_data)\n",
    "ncol_gp = len(gp_data[0])\n",
    "print('Number of Rows: ' + str(nrow_gp) + ', Number of Columns: ' + str(ncol_gp))\n",
    "print('\\n')\n",
    "print(gp_data[0])"
   ]
  },
  {
   "cell_type": "markdown",
   "metadata": {},
   "source": [
    "We can see that we have roughly similarly sized data sets with the Google Play Market data set coming in at 10842 x 13. There is slighly less historical data available, however the key information for our assessment appears to be present here as well.\n",
    "\n",
    "# Cleaning the Data\n",
    "\n",
    "Before we are able to perform any real data analysis, we will need to clean our data. To that end, we need to eliminate incorrect or useless data. For us, this is data that falls into two categories:\n",
    "    \n",
    "    1. Paid apps. Remember, we are looking at apps for in-app advertising, paid apps will not be having such advertisements\n",
    "    2. Apps for non English speakers - our target market is English speakers and thus we are not concerned with \n"
   ]
  },
  {
   "cell_type": "code",
   "execution_count": 3,
   "metadata": {
    "collapsed": false
   },
   "outputs": [
    {
     "name": "stdout",
     "output_type": "stream",
     "text": [
      "['Life Made WI-Fi Touchscreen Photo Frame', '1.9', '19', '3.0M', '1,000+', 'Free', '0', 'Everyone', '', 'February 11, 2018', '1.0.19', '4.0 and up']\n"
     ]
    }
   ],
   "source": [
    "# The shitty row is 10472\n",
    "print(gp_data[10473])\n",
    "del(gp_data[10473])"
   ]
  },
  {
   "cell_type": "markdown",
   "metadata": {},
   "source": [
    "The Google Play Market has duplicate app data. We can see this by sorting the apps by uniqueness in a dictionary;\n",
    "\n",
    "... Code to extract info\n",
    "... Code to show a few of the duplicate rows\n",
    "... Code that shows the number of duplicates\n"
   ]
  },
  {
   "cell_type": "code",
   "execution_count": 4,
   "metadata": {
    "collapsed": false
   },
   "outputs": [
    {
     "name": "stdout",
     "output_type": "stream",
     "text": [
      "Number of duplicate apps in Google Play Market:1181\n",
      "\n",
      "\n",
      "Number of duplicate apps in Apple Store:2\n"
     ]
    }
   ],
   "source": [
    "duplicate_apps_gp = []\n",
    "unique_apps_gp = []\n",
    "\n",
    "for row in gp_data[1:]:\n",
    "    name = row[0]\n",
    "    if name in unique_apps_gp:\n",
    "        duplicate_apps_gp.append(name)\n",
    "    else:\n",
    "        unique_apps_gp.append(name)\n",
    "\n",
    "duplicate_apps_apple = []\n",
    "unique_apps_apple = []\n",
    "\n",
    "for row in apple_data[1:]:\n",
    "    name = row[1]\n",
    "    if name in unique_apps_apple:\n",
    "        duplicate_apps_apple.append(name)\n",
    "    else:\n",
    "        unique_apps_apple.append(name)\n",
    "\n",
    "        \n",
    "\n",
    "print('Number of duplicate apps in Google Play Market:' + str(len(duplicate_apps_gp)))\n",
    "print('\\n')\n",
    "print('Number of duplicate apps in Apple Store:' + str(len(duplicate_apps_apple)))"
   ]
  },
  {
   "cell_type": "markdown",
   "metadata": {},
   "source": [
    "We want to remove duplicate entries. There are a few different ways that we could do this. One option is to keep the entry with the most reviews, as this is guaranteed to be the most recent version of the app and thus most accurately the current state of affairs."
   ]
  },
  {
   "cell_type": "code",
   "execution_count": 5,
   "metadata": {
    "collapsed": false
   },
   "outputs": [
    {
     "name": "stdout",
     "output_type": "stream",
     "text": [
      "9659\n",
      "[['Photo Editor & Candy Camera & Grid & ScrapBook', 'ART_AND_DESIGN', '4.1', '159', '19M', '10,000+', 'Free', '0', 'Everyone', 'Art & Design', 'January 7, 2018', '1.0.0', '4.0.3 and up'], ['U Launcher Lite – FREE Live Cool Themes, Hide Apps', 'ART_AND_DESIGN', '4.7', '87510', '8.7M', '5,000,000+', 'Free', '0', 'Everyone', 'Art & Design', 'August 1, 2018', '1.2.4', '4.0.3 and up'], ['Sketch - Draw & Paint', 'ART_AND_DESIGN', '4.5', '215644', '25M', '50,000,000+', 'Free', '0', 'Teen', 'Art & Design', 'June 8, 2018', 'Varies with device', '4.2 and up'], ['Pixel Draw - Number Art Coloring Book', 'ART_AND_DESIGN', '4.3', '967', '2.8M', '100,000+', 'Free', '0', 'Everyone', 'Art & Design;Creativity', 'June 20, 2018', '1.1', '4.4 and up']]\n",
      "9659\n",
      "7195\n",
      "7195\n"
     ]
    }
   ],
   "source": [
    "reviews_max_gp = {}\n",
    "\n",
    "for row in gp_data[1:]:\n",
    "    name = row[0]\n",
    "    n_reviews = float(row[3])\n",
    "    \n",
    "    if name in reviews_max_gp and reviews_max_gp[name] < n_reviews:\n",
    "        reviews_max_gp[name] = n_reviews\n",
    "    elif name not in reviews_max_gp:\n",
    "        reviews_max_gp[name] = n_reviews\n",
    "\n",
    "print(len(reviews_max_gp))\n",
    "\n",
    "android_clean = []\n",
    "already_added_gp = []\n",
    "\n",
    "for row in gp_data[1:]:\n",
    "    name = row[0]\n",
    "    n_reviews = float(row[3])\n",
    "    \n",
    "    if n_reviews == reviews_max_gp[name] and name not in already_added_gp:\n",
    "        android_clean.append(row)\n",
    "        already_added_gp.append(name)\n",
    "        \n",
    "print(android_clean[0:4])\n",
    "\n",
    "print(len(android_clean))\n",
    "\n",
    "\n",
    "reviews_max_apple = {}\n",
    "\n",
    "for row in apple_data[1:]:\n",
    "    name = row[1]\n",
    "    n_reviews = float(row[5])\n",
    "    \n",
    "    if name in reviews_max_apple and reviews_max_apple[name] < n_reviews:\n",
    "        reviews_max_apple[name] = n_reviews\n",
    "    elif name not in reviews_max_apple:\n",
    "        reviews_max_apple[name] = n_reviews\n",
    "\n",
    "print(len(reviews_max_apple))\n",
    "\n",
    "apple_clean = []\n",
    "already_added_apple = []\n",
    "\n",
    "for row in apple_data[1:]:\n",
    "    name = row[1]\n",
    "    n_reviews = float(row[5])\n",
    "    \n",
    "    if n_reviews == reviews_max_apple[name] and name not in already_added_apple:\n",
    "        apple_clean.append(row)\n",
    "        already_added_apple.append(name)\n",
    "\n",
    "print(len(apple_clean))"
   ]
  },
  {
   "cell_type": "markdown",
   "metadata": {},
   "source": [
    "Write some explanations about how you're basically cleaning the data. So how you're removing duplicates, the reasoning for why you are doing so and how you solved it."
   ]
  },
  {
   "cell_type": "code",
   "execution_count": 6,
   "metadata": {
    "collapsed": false
   },
   "outputs": [
    {
     "name": "stdout",
     "output_type": "stream",
     "text": [
      "True\n",
      "False\n",
      "True\n",
      "True\n"
     ]
    }
   ],
   "source": [
    "def englishSpeaking(string):\n",
    "    char_count = 0\n",
    "    for letter in string:\n",
    "        if ord(letter) > 127:\n",
    "            char_count += 1\n",
    "            \n",
    "    if char_count > 3:\n",
    "        return False\n",
    "    else:\n",
    "        return True\n",
    "\n",
    "print(englishSpeaking('Instagram'))\n",
    "print(englishSpeaking('爱奇艺PPS -《欢乐颂2》电视剧热播'))\n",
    "print(englishSpeaking('Docs To Go™ Free Office Suite'))\n",
    "print(englishSpeaking('Instachat 😜'))"
   ]
  },
  {
   "cell_type": "code",
   "execution_count": 7,
   "metadata": {
    "collapsed": false
   },
   "outputs": [
    {
     "name": "stdout",
     "output_type": "stream",
     "text": [
      "9614\n",
      "6181\n"
     ]
    }
   ],
   "source": [
    "android_english = []\n",
    "apple_english = []\n",
    "\n",
    "for row in android_clean:\n",
    "    name = row[0]\n",
    "    \n",
    "    if englishSpeaking(name) == True:\n",
    "        android_english.append(row)\n",
    "\n",
    "for row in apple_clean:\n",
    "    name = row[1]\n",
    "    \n",
    "    if englishSpeaking(name) == True:\n",
    "        apple_english.append(row)\n",
    "        \n",
    "print(len(android_english))\n",
    "print(len(apple_english))\n",
    "      "
   ]
  },
  {
   "cell_type": "code",
   "execution_count": 8,
   "metadata": {
    "collapsed": false
   },
   "outputs": [
    {
     "name": "stdout",
     "output_type": "stream",
     "text": [
      "8864\n",
      "3220\n"
     ]
    }
   ],
   "source": [
    "android_clean_free = []\n",
    "apple_clean_free = []\n",
    "\n",
    "for row in android_english:\n",
    "    price = row[7]\n",
    "    \n",
    "    if price == '0':\n",
    "        android_clean_free.append(row)\n",
    "    \n",
    "    \n",
    "for row in apple_english:\n",
    "    price = float(row[4])\n",
    "    \n",
    "    if price == 0.0:\n",
    "        apple_clean_free.append(row)\n",
    "    \n",
    "\n",
    "print(len(android_clean_free))\n",
    "print(len(apple_clean_free))"
   ]
  },
  {
   "cell_type": "markdown",
   "metadata": {},
   "source": [
    "To minimize risks and overhead, our validation strategy for an app idea is comprised of three steps:\n",
    "\n",
    "1. Build a minimal Android version of the app, and add it to Google Play.\n",
    "2. If the app has a good response from users, we then develop it further.\n",
    "3. If the app is profitable after six months, we also build an iOS version of the app and add it to the App Store.\n",
    "\n",
    "Because our end goal is to add the app on both the App Store and Google Play, we need to find app profiles that are successful on both markets. For instance, a profile that might work well for both markets might be a productivity app that makes use of gamification.\n",
    "\n",
    "Let's begin the analysis by getting a sense of what are the most common genres for each market. For this, we'll need to build frequency tables for a few columns in our data sets."
   ]
  },
  {
   "cell_type": "code",
   "execution_count": 9,
   "metadata": {
    "collapsed": false
   },
   "outputs": [],
   "source": [
    "gp_genres = {}\n",
    "gp_genres_list = []\n",
    "\n",
    "for row in android_clean_free:\n",
    "    genre = row[9]\n",
    "    \n",
    "    if genre in gp_genres:\n",
    "        gp_genres[genre] += 1\n",
    "    else: \n",
    "        gp_genres[genre] = 1\n",
    "    \n",
    "    gp_genres_list.append(genre)\n",
    "    \n",
    "# print(gp_genres)\n",
    "\n",
    "apple_genres = {}\n",
    "apple_genres_list = []\n",
    "\n",
    "for row in apple_clean_free:\n",
    "    genre = row[11]\n",
    "    \n",
    "    apple_genres_list.append(genre)\n",
    "    \n",
    "    if genre in apple_genres:\n",
    "        apple_genres[genre] += 1\n",
    "    else:\n",
    "        apple_genres[genre] = 1\n",
    "\n",
    "# print(apple_genres_list[0:4])"
   ]
  },
  {
   "cell_type": "code",
   "execution_count": 10,
   "metadata": {
    "collapsed": false
   },
   "outputs": [
    {
     "name": "stdout",
     "output_type": "stream",
     "text": [
      "Android breakdown: \n",
      "\n",
      "FAMILY : 18.907942238267147\n",
      "GAME : 9.724729241877256\n",
      "TOOLS : 8.461191335740072\n",
      "BUSINESS : 4.591606498194946\n",
      "LIFESTYLE : 3.9034296028880866\n",
      "PRODUCTIVITY : 3.892148014440433\n",
      "FINANCE : 3.7003610108303246\n",
      "MEDICAL : 3.531137184115524\n",
      "SPORTS : 3.395758122743682\n",
      "PERSONALIZATION : 3.3167870036101084\n",
      "COMMUNICATION : 3.2378158844765346\n",
      "HEALTH_AND_FITNESS : 3.0798736462093865\n",
      "PHOTOGRAPHY : 2.944494584837545\n",
      "NEWS_AND_MAGAZINES : 2.7978339350180503\n",
      "SOCIAL : 2.6624548736462095\n",
      "TRAVEL_AND_LOCAL : 2.33528880866426\n",
      "SHOPPING : 2.2450361010830324\n",
      "BOOKS_AND_REFERENCE : 2.1435018050541514\n",
      "DATING : 1.861462093862816\n",
      "VIDEO_PLAYERS : 1.7937725631768955\n",
      "MAPS_AND_NAVIGATION : 1.3989169675090252\n",
      "FOOD_AND_DRINK : 1.2409747292418771\n",
      "EDUCATION : 1.1620036101083033\n",
      "ENTERTAINMENT : 0.9589350180505415\n",
      "LIBRARIES_AND_DEMO : 0.9363718411552346\n",
      "AUTO_AND_VEHICLES : 0.9250902527075812\n",
      "HOUSE_AND_HOME : 0.8235559566787004\n",
      "WEATHER : 0.8009927797833934\n",
      "EVENTS : 0.7107400722021661\n",
      "PARENTING : 0.6543321299638989\n",
      "ART_AND_DESIGN : 0.6430505415162455\n",
      "COMICS : 0.6204873646209386\n",
      "BEAUTY : 0.5979241877256317\n",
      "\n",
      "\n",
      "Tools : 8.449909747292418\n",
      "Entertainment : 6.069494584837545\n",
      "Education : 5.347472924187725\n",
      "Business : 4.591606498194946\n",
      "Productivity : 3.892148014440433\n",
      "Lifestyle : 3.892148014440433\n",
      "Finance : 3.7003610108303246\n",
      "Medical : 3.531137184115524\n",
      "Sports : 3.463447653429603\n",
      "Personalization : 3.3167870036101084\n",
      "Communication : 3.2378158844765346\n",
      "Action : 3.1024368231046933\n",
      "Health & Fitness : 3.0798736462093865\n",
      "Photography : 2.944494584837545\n",
      "News & Magazines : 2.7978339350180503\n",
      "Social : 2.6624548736462095\n",
      "Travel & Local : 2.3240072202166067\n",
      "Shopping : 2.2450361010830324\n",
      "Books & Reference : 2.1435018050541514\n",
      "Simulation : 2.0419675090252705\n",
      "Dating : 1.861462093862816\n",
      "Arcade : 1.8501805054151623\n",
      "Video Players & Editors : 1.7712093862815883\n",
      "Casual : 1.7599277978339352\n",
      "Maps & Navigation : 1.3989169675090252\n",
      "Food & Drink : 1.2409747292418771\n",
      "Puzzle : 1.128158844765343\n",
      "Racing : 0.9927797833935018\n",
      "Role Playing : 0.9363718411552346\n",
      "Libraries & Demo : 0.9363718411552346\n",
      "Auto & Vehicles : 0.9250902527075812\n",
      "Strategy : 0.9138086642599278\n",
      "House & Home : 0.8235559566787004\n",
      "Weather : 0.8009927797833934\n",
      "Events : 0.7107400722021661\n",
      "Adventure : 0.6768953068592057\n",
      "Comics : 0.6092057761732852\n",
      "Beauty : 0.5979241877256317\n",
      "Art & Design : 0.5979241877256317\n",
      "Parenting : 0.4963898916967509\n",
      "Card : 0.45126353790613716\n",
      "Casino : 0.42870036101083037\n",
      "Trivia : 0.41741877256317694\n",
      "Educational;Education : 0.39485559566787\n",
      "Board : 0.3835740072202166\n",
      "Educational : 0.3722924187725632\n",
      "Education;Education : 0.33844765342960287\n",
      "Word : 0.2594765342960289\n",
      "Casual;Pretend Play : 0.236913357400722\n",
      "Music : 0.2030685920577617\n",
      "Racing;Action & Adventure : 0.16922382671480143\n",
      "Puzzle;Brain Games : 0.16922382671480143\n",
      "Entertainment;Music & Video : 0.16922382671480143\n",
      "Casual;Brain Games : 0.13537906137184114\n",
      "Casual;Action & Adventure : 0.13537906137184114\n",
      "Arcade;Action & Adventure : 0.12409747292418773\n",
      "Action;Action & Adventure : 0.10153429602888085\n",
      "Educational;Pretend Play : 0.09025270758122744\n",
      "Simulation;Action & Adventure : 0.078971119133574\n",
      "Parenting;Education : 0.078971119133574\n",
      "Entertainment;Brain Games : 0.078971119133574\n",
      "Board;Brain Games : 0.078971119133574\n",
      "Parenting;Music & Video : 0.06768953068592057\n",
      "Educational;Brain Games : 0.06768953068592057\n",
      "Casual;Creativity : 0.06768953068592057\n",
      "Art & Design;Creativity : 0.06768953068592057\n",
      "Education;Pretend Play : 0.056407942238267145\n",
      "Role Playing;Pretend Play : 0.04512635379061372\n",
      "Education;Creativity : 0.04512635379061372\n",
      "Role Playing;Action & Adventure : 0.033844765342960284\n",
      "Puzzle;Action & Adventure : 0.033844765342960284\n",
      "Entertainment;Creativity : 0.033844765342960284\n",
      "Entertainment;Action & Adventure : 0.033844765342960284\n",
      "Educational;Creativity : 0.033844765342960284\n",
      "Educational;Action & Adventure : 0.033844765342960284\n",
      "Education;Music & Video : 0.033844765342960284\n",
      "Education;Brain Games : 0.033844765342960284\n",
      "Education;Action & Adventure : 0.033844765342960284\n",
      "Adventure;Action & Adventure : 0.033844765342960284\n",
      "Video Players & Editors;Music & Video : 0.02256317689530686\n",
      "Sports;Action & Adventure : 0.02256317689530686\n",
      "Simulation;Pretend Play : 0.02256317689530686\n",
      "Puzzle;Creativity : 0.02256317689530686\n",
      "Music;Music & Video : 0.02256317689530686\n",
      "Entertainment;Pretend Play : 0.02256317689530686\n",
      "Casual;Education : 0.02256317689530686\n",
      "Board;Action & Adventure : 0.02256317689530686\n",
      "Video Players & Editors;Creativity : 0.01128158844765343\n",
      "Trivia;Education : 0.01128158844765343\n",
      "Travel & Local;Action & Adventure : 0.01128158844765343\n",
      "Tools;Education : 0.01128158844765343\n",
      "Strategy;Education : 0.01128158844765343\n",
      "Strategy;Creativity : 0.01128158844765343\n",
      "Strategy;Action & Adventure : 0.01128158844765343\n",
      "Simulation;Education : 0.01128158844765343\n",
      "Role Playing;Brain Games : 0.01128158844765343\n",
      "Racing;Pretend Play : 0.01128158844765343\n",
      "Puzzle;Education : 0.01128158844765343\n",
      "Parenting;Brain Games : 0.01128158844765343\n",
      "Music & Audio;Music & Video : 0.01128158844765343\n",
      "Lifestyle;Pretend Play : 0.01128158844765343\n",
      "Lifestyle;Education : 0.01128158844765343\n",
      "Health & Fitness;Education : 0.01128158844765343\n",
      "Health & Fitness;Action & Adventure : 0.01128158844765343\n",
      "Entertainment;Education : 0.01128158844765343\n",
      "Communication;Creativity : 0.01128158844765343\n",
      "Comics;Creativity : 0.01128158844765343\n",
      "Casual;Music & Video : 0.01128158844765343\n",
      "Card;Action & Adventure : 0.01128158844765343\n",
      "Books & Reference;Education : 0.01128158844765343\n",
      "Art & Design;Pretend Play : 0.01128158844765343\n",
      "Art & Design;Action & Adventure : 0.01128158844765343\n",
      "Arcade;Pretend Play : 0.01128158844765343\n",
      "Adventure;Education : 0.01128158844765343\n",
      "\n",
      "\n",
      "Apple Breakdown: \n",
      "\n",
      "Games : 58.13664596273293\n",
      "Entertainment : 7.888198757763975\n",
      "Photo & Video : 4.968944099378882\n",
      "Education : 3.6645962732919255\n",
      "Social Networking : 3.291925465838509\n",
      "Shopping : 2.608695652173913\n",
      "Utilities : 2.515527950310559\n",
      "Sports : 2.142857142857143\n",
      "Music : 2.049689440993789\n",
      "Health & Fitness : 2.018633540372671\n",
      "Productivity : 1.7391304347826086\n",
      "Lifestyle : 1.5838509316770186\n",
      "News : 1.3354037267080745\n",
      "Travel : 1.2422360248447204\n",
      "Finance : 1.1180124223602486\n",
      "Weather : 0.8695652173913043\n",
      "Food & Drink : 0.8074534161490683\n",
      "Reference : 0.5590062111801243\n",
      "Business : 0.5279503105590062\n",
      "Book : 0.43478260869565216\n",
      "Navigation : 0.18633540372670807\n",
      "Medical : 0.18633540372670807\n",
      "Catalogs : 0.12422360248447205\n"
     ]
    }
   ],
   "source": [
    "def freq_table(dataset, index):\n",
    "    table = {}\n",
    "    total = len(dataset)\n",
    "    for row in dataset:\n",
    "        entry = row[index]\n",
    "        \n",
    "        if entry in table:\n",
    "            table[entry] += 1\n",
    "        else: \n",
    "            table[entry] = 1\n",
    "            \n",
    "    for key in table:\n",
    "        table[key] /= total\n",
    "        table[key] *= 100\n",
    "        \n",
    "    return table\n",
    "\n",
    "def display_table(dataset, index):\n",
    "    table = freq_table(dataset, index)\n",
    "    table_display = []\n",
    "    for key in table:\n",
    "        key_val_as_tuple = (table[key], key)\n",
    "        table_display.append(key_val_as_tuple)\n",
    "\n",
    "    table_sorted = sorted(table_display, reverse = True)\n",
    "    for entry in table_sorted:\n",
    "        print(entry[1], ':', entry[0])\n",
    "   \n",
    "print('Android breakdown: \\n')\n",
    "display_table(android_clean_free, 1)\n",
    "print('\\n')\n",
    "display_table(android_clean_free, 9)\n",
    "print('\\n')\n",
    "print('Apple Breakdown: \\n')\n",
    "display_table(apple_clean_free, 11)\n",
    "        "
   ]
  },
  {
   "cell_type": "markdown",
   "metadata": {
    "collapsed": true
   },
   "source": [
    "Analyze the frequency table you generated for the prime_genre column of the App Store data set.\n",
    "\n",
    "What is the most common genre? What is the runner-up?\n",
    "\n",
    "Most common genre is games\n",
    "The runner-up is Entertainment\n",
    "\n",
    "What other patterns can you see?\n",
    "\n",
    "Apps related to entertainment or media make up a majority of the listed free apps, while more pragmatic apps tend to be rare\n",
    "\n",
    "What is the general impression — are most of the apps designed for practical purposes (education, shopping, utilities, productivity, lifestyle, etc.) or more for fun (games, entertainment, photo and video, social networking, sports, music, etc.)?\n",
    "\n",
    "Most apps are designed for fun, they make up over 75% of the total availabl free listings on the app store\n",
    "\n",
    "Can you recommend an app profile for the App Store market based on this frequency table alone? If there's a large number of apps for a particular genre, does that also imply that apps of that genre generally have a large number of users?\n",
    "\n",
    "We cannot make a recommendation on this table alone. Unfortunately, a large number of games would mean that our game is also less likely to be noticed. Though a genre is very common, it does not necessarily mean that all the apps in that genre are receiving a lot of attention\n",
    "\n",
    "Analyze the frequency table you generated for the Category and Genres column of the Google Play data set.\n",
    "\n",
    "What are the most common genres?\n",
    "\n",
    "Tools, Entertainment and Education\n",
    "\n",
    "What other patterns can you see?\n",
    "\n",
    "There is a much more balanced spread of free apps available (by percentage) in the Google Play data set. Many categories that deal with practical apps (education, productivity, business) are much more popular than in the apple store\n",
    "\n",
    "Compare the patterns you see for the Google Play market with those you saw for the App Store market.\n",
    "\n",
    "The Google Play market has a much more balanced variety of free apps for a variety of categories, versus the apple store which is primarily dominated by free entertainment apps\n",
    "\n",
    "Can you recommend an app profile based on what you found so far? \n",
    "\n",
    "We cannot make an app profile recommendation as of yet because we still need to examine how much traffic each type of app actually receives in order to make a sound recommendation\n",
    "\n",
    "Do the frequency tables you generated tell you what are the most frequent app genres or what genres have the most users?\n",
    "\n",
    "They tell us what the most frequent app genres are but they do not reveal to us what genres have the most users as they do not show the total review count"
   ]
  },
  {
   "cell_type": "code",
   "execution_count": 15,
   "metadata": {
    "collapsed": false
   },
   "outputs": [
    {
     "name": "stdout",
     "output_type": "stream",
     "text": [
      "Average number of reviews by genre: \n",
      "\n",
      "Weather 52279.892857142855\n",
      "Music 57326.530303030304\n",
      "Reference 74942.11111111111\n",
      "Sports 23008.898550724636\n",
      "Photo & Video 28441.54375\n",
      "Finance 31467.944444444445\n",
      "Medical 612.0\n",
      "Navigation 86090.33333333333\n",
      "Social Networking 71548.34905660378\n",
      "Travel 28243.8\n",
      "Health & Fitness 23298.015384615384\n",
      "Education 7003.983050847458\n",
      "Productivity 21028.410714285714\n",
      "Business 7491.117647058823\n",
      "Games 22812.92467948718\n",
      "Catalogs 4004.0\n",
      "News 21248.023255813954\n",
      "Utilities 18684.456790123455\n",
      "Food & Drink 33333.92307692308\n",
      "Entertainment 14029.830708661417\n",
      "Lifestyle 16485.764705882353\n",
      "Book 39758.5\n",
      "Shopping 26919.690476190477\n"
     ]
    }
   ],
   "source": [
    "# print(gp_genres)\n",
    "# print('\\n')\n",
    "# print(apple_genres)\n",
    "\n",
    "print('Average number of reviews by genre: \\n')\n",
    "for genre in apple_genres:\n",
    "    \n",
    "    total = 0\n",
    "    len_genre = 0\n",
    "    \n",
    "    for row in apple_clean_free:\n",
    "        genre_app = row[11]\n",
    "        \n",
    "        if genre_app == genre:\n",
    "            ratings = float(row[5])\n",
    "            total += ratings\n",
    "            len_genre += 1\n",
    "            \n",
    "    avg_ratings = total/len_genre\n",
    "    print(genre, avg_ratings)"
   ]
  },
  {
   "cell_type": "markdown",
   "metadata": {},
   "source": [
    "Make a recommendation for at least one app profile based on the information here"
   ]
  },
  {
   "cell_type": "code",
   "execution_count": 17,
   "metadata": {
    "collapsed": false
   },
   "outputs": [
    {
     "name": "stdout",
     "output_type": "stream",
     "text": [
      "Average number of installs by category: \n",
      "\n",
      "SPORTS 3638640.1428571427\n",
      "SHOPPING 7036877.311557789\n",
      "BUSINESS 1712290.1474201474\n",
      "TRAVEL_AND_LOCAL 13984077.710144928\n",
      "FINANCE 1387692.475609756\n",
      "ENTERTAINMENT 11640705.88235294\n",
      "FAMILY 3695641.8198090694\n",
      "MEDICAL 120550.61980830671\n",
      "VIDEO_PLAYERS 24727872.452830188\n",
      "COMMUNICATION 38456119.167247385\n",
      "EDUCATION 1833495.145631068\n",
      "BOOKS_AND_REFERENCE 8767811.894736841\n",
      "HOUSE_AND_HOME 1331540.5616438356\n",
      "GAME 15588015.603248259\n",
      "MAPS_AND_NAVIGATION 4056941.7741935486\n",
      "PERSONALIZATION 5201482.6122448975\n",
      "ART_AND_DESIGN 1986335.0877192982\n",
      "LIBRARIES_AND_DEMO 638503.734939759\n",
      "COMICS 817657.2727272727\n",
      "HEALTH_AND_FITNESS 4188821.9853479853\n",
      "NEWS_AND_MAGAZINES 9549178.467741935\n",
      "DATING 854028.8303030303\n",
      "WEATHER 5074486.197183099\n",
      "BEAUTY 513151.88679245283\n",
      "FOOD_AND_DRINK 1924897.7363636363\n",
      "EVENTS 253542.22222222222\n",
      "PRODUCTIVITY 16787331.344927534\n",
      "SOCIAL 23253652.127118643\n",
      "PARENTING 542603.6206896552\n",
      "TOOLS 10801391.298666667\n",
      "LIFESTYLE 1437816.2687861272\n",
      "PHOTOGRAPHY 17840110.40229885\n",
      "AUTO_AND_VEHICLES 647317.8170731707\n"
     ]
    }
   ],
   "source": [
    "gp_categories = {}\n",
    "gp_categories_list = []\n",
    "\n",
    "for row in android_clean_free:\n",
    "    genre = row[1]\n",
    "    \n",
    "    if genre in gp_categories:\n",
    "        gp_categories[genre] += 1\n",
    "    else: \n",
    "        gp_categories[genre] = 1\n",
    "    \n",
    "    gp_categories_list.append(genre)\n",
    "    \n",
    "print('Average number of installs by category: \\n')\n",
    "for category in gp_categories:\n",
    "    total = 0\n",
    "    len_category = 0\n",
    "    \n",
    "    for row in android_clean_free:\n",
    "        category_app = row[1]\n",
    "        \n",
    "        if category_app == category:\n",
    "            installs = row[5]\n",
    "            installs = installs.replace('+','')\n",
    "            installs = installs.replace(',','')\n",
    "            installs = float(installs)\n",
    "            total += installs\n",
    "            len_category += 1\n",
    "            \n",
    "    avg_installs = total/len_category\n",
    "    print(category, avg_installs)\n",
    "                                        "
   ]
  },
  {
   "cell_type": "markdown",
   "metadata": {},
   "source": [
    "Make at least one app profile recommendation for Google Play based on these results"
   ]
  },
  {
   "cell_type": "code",
   "execution_count": null,
   "metadata": {
    "collapsed": true
   },
   "outputs": [],
   "source": []
  }
 ],
 "metadata": {
  "kernelspec": {
   "display_name": "Python 3",
   "language": "python",
   "name": "python3"
  },
  "language_info": {
   "codemirror_mode": {
    "name": "ipython",
    "version": 3
   },
   "file_extension": ".py",
   "mimetype": "text/x-python",
   "name": "python",
   "nbconvert_exporter": "python",
   "pygments_lexer": "ipython3",
   "version": "3.4.3"
  }
 },
 "nbformat": 4,
 "nbformat_minor": 2
}
