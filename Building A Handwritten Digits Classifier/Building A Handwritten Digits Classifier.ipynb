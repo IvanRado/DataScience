{
 "cells": [
  {
   "cell_type": "markdown",
   "metadata": {},
   "source": [
    "# Building a Handwritten Digits Classifier\n",
    "\n",
    "In this project, we'll be using a neural network to try and predict which digit is being represented by the image we are reading. The images we'll be using are from the sci-kit learn python library. The images are 8 x 8 arrays of pixels with varying levels of intensity. We'll begin by loading in the dataset and visualizing one of the images so we have an idea of what these digits might look like."
   ]
  },
  {
   "cell_type": "code",
   "execution_count": 1,
   "metadata": {},
   "outputs": [],
   "source": [
    "import pandas as pd\n",
    "import numpy as np\n",
    "%matplotlib inline\n",
    "import matplotlib.pyplot as plt\n",
    "from sklearn.datasets import load_digits\n",
    "data = load_digits()"
   ]
  },
  {
   "cell_type": "code",
   "execution_count": 2,
   "metadata": {},
   "outputs": [],
   "source": [
    "labels = pd.Series(data['target'])\n",
    "data_sub = pd.DataFrame(data['data'])"
   ]
  },
  {
   "cell_type": "code",
   "execution_count": 3,
   "metadata": {},
   "outputs": [
    {
     "data": {
      "text/plain": [
       "<matplotlib.image.AxesImage at 0x237f113fef0>"
      ]
     },
     "execution_count": 3,
     "metadata": {},
     "output_type": "execute_result"
    },
    {
     "data": {
      "image/png": "[encoded data removed]",
      "text/plain": [
       "<Figure size 432x288 with 1 Axes>"
      ]
     },
     "metadata": {},
     "output_type": "display_data"
    }
   ],
   "source": [
    "first_image = data['images'][0]\n",
    "plt.imshow(first_image, cmap = 'gray_r')"
   ]
  },
  {
   "cell_type": "code",
   "execution_count": 4,
   "metadata": {},
   "outputs": [
    {
     "data": {
      "image/png": "[encoded data removed]",
      "text/plain": [
       "<Figure size 432x288 with 8 Axes>"
      ]
     },
     "metadata": {},
     "output_type": "display_data"
    }
   ],
   "source": [
    "rows_to_display = [0, 100, 200, 300, 1000, 1100, 1200, 1300]\n",
    "for i in range(8):\n",
    "        image = data['images'][rows_to_display[i]]\n",
    "        plt.subplot(2,4,i+1)\n",
    "        plt.imshow(image, cmap = 'gray_r')\n",
    "    \n",
    "    "
   ]
  },
  {
   "cell_type": "markdown",
   "metadata": {},
   "source": [
    "### K-Nearest Neighbors Model\n",
    "\n",
    "To begin, we will try training a model using the K-Nearest Neighbors appraoch."
   ]
  },
  {
   "cell_type": "code",
   "execution_count": 5,
   "metadata": {},
   "outputs": [],
   "source": [
    "from sklearn.neighbors import KNeighborsClassifier\n",
    "from sklearn.metrics import accuracy_score\n",
    "import math\n",
    "\n",
    "threshold = math.floor(data_sub.shape[0]*0.8)\n",
    "predictors = list(data_sub.columns)\n",
    "data_sub['target'] = labels\n",
    "features = data_sub\n",
    "shuffled = data_sub.sample(frac = 1)\n",
    "train = shuffled[0:threshold]\n",
    "test = shuffled[threshold:]\n",
    "\n",
    "# Train the KNeighborsClassifier Model \n",
    "def train(df, k):\n",
    "    knc = KNeighborsClassifier(n_neighbors = k)\n",
    "    knc.fit(df[predictors], df['target'])\n",
    "    return knc\n",
    "    \n",
    "def test(knc, df):\n",
    "    predictions = knc.predict(df[predictors])\n",
    "    return predictions    "
   ]
  },
  {
   "cell_type": "code",
   "execution_count": 6,
   "metadata": {},
   "outputs": [],
   "source": [
    "# Takes the DataFrame and performs k-fold validation with the given k value\n",
    "def cross_validate(df, k):\n",
    "    # Find the indices for the partitions\n",
    "    split_length = math.floor(df.shape[0] * 0.25)\n",
    "    partitions = []\n",
    "    accuracies = []\n",
    "    \n",
    "    # Split the DataFrame into its k partitions\n",
    "    for i in range(4):\n",
    "        if i == 3:\n",
    "            partitions.append(df[split_length*i:])\n",
    "        else:\n",
    "            partitions.append(df[split_length*i:split_length*(i+1)])\n",
    "    \n",
    "    # Iterate through the DataFrames in the partition list\n",
    "    for i in range(len(partitions)):\n",
    "        # Select one as the test set\n",
    "        test_iter = partitions[i]\n",
    "        \n",
    "        # Use the remainder to form the training set\n",
    "        train_iter = pd.concat((partitions[:i] + partitions[i+1:]))\n",
    "        \n",
    "        # Train a KNeighborsClassifier on the training set\n",
    "        knc_iter = train(train_iter, k)\n",
    "        \n",
    "        # Use the test function to calculate the predicted labels\n",
    "        knc_predict = test(knc_iter, test_iter)\n",
    "        \n",
    "        # Calculate the accuracy score and save it into a list\n",
    "        accuracies.append(accuracy_score(test_iter['target'], knc_predict))\n",
    "        \n",
    "        \n",
    "    # Return the mean of the accuracy scores\n",
    "    return np.mean(accuracies)"
   ]
  },
  {
   "cell_type": "code",
   "execution_count": 7,
   "metadata": {},
   "outputs": [
    {
     "data": {
      "text/plain": [
       "{1: 0.9888666171739668,\n",
       " 2: 0.986085127443702,\n",
       " 3: 0.9860863647611977,\n",
       " 4: 0.9849703043801039,\n",
       " 5: 0.9855295718881465,\n",
       " 6: 0.9827456075228904,\n",
       " 7: 0.9844172234595397,\n",
       " 8: 0.983304875030933,\n",
       " 9: 0.9816332590942837}"
      ]
     },
     "execution_count": 7,
     "metadata": {},
     "output_type": "execute_result"
    }
   ],
   "source": [
    "accuracy_dict = {}\n",
    "for i in range(1,10):\n",
    "    accuracy_dict[i] = cross_validate(shuffled, i)\n",
    "    \n",
    "\n",
    "accuracy_dict"
   ]
  },
  {
   "cell_type": "code",
   "execution_count": 8,
   "metadata": {},
   "outputs": [
    {
     "data": {
      "image/png": "[encoded data removed]",
      "text/plain": [
       "<Figure size 432x288 with 1 Axes>"
      ]
     },
     "metadata": {},
     "output_type": "display_data"
    }
   ],
   "source": [
    "accuracy_series = pd.Series(accuracy_dict)\n",
    "\n",
    "accuracy_series.plot()\n",
    "plt.show()"
   ]
  },
  {
   "cell_type": "markdown",
   "metadata": {},
   "source": [
    "### Neural Network with One Hidden Layer"
   ]
  },
  {
   "cell_type": "code",
   "execution_count": 9,
   "metadata": {},
   "outputs": [],
   "source": [
    "from sklearn.model_selection import KFold\n",
    "from sklearn.neural_network import MLPClassifier\n",
    "from sklearn.metrics import accuracy_score\n",
    "\n",
    "\n",
    "def train_nn(num_neurons, train_features, train_labels):\n",
    "    mlp = MLPClassifier(hidden_layer_sizes = num_neurons, max_iter = 1000)\n",
    "    mlp.fit(train_features, train_labels)\n",
    "    return mlp\n",
    "\n",
    "def test_nn(nn_model, test_features, test_labels):\n",
    "    predictions = nn_model.predict(test_features)\n",
    "    train_test_df = pd.DataFrame()\n",
    "    train_test_df['correct_label'] = test_labels\n",
    "    train_test_df['predicted_label'] = predictions\n",
    "    overall_accuracy = sum(train_test_df[\"predicted_label\"] == train_test_df[\"correct_label\"])/len(train_test_df)    \n",
    "    return overall_accuracy\n",
    "\n",
    "def cross_validate(data, num_neurons):\n",
    "    accuracy = []\n",
    "    # Use KFold to split the data\n",
    "    knf = KFold(n_splits = 4, random_state = 2)\n",
    "    for train_index, test_index in knf.split(data):\n",
    "        train_features, test_features = data.loc[train_index], data.loc[test_index]\n",
    "        train_labels, test_labels = labels.loc[train_index], labels.loc[test_index]\n",
    "        \n",
    "        mlp = train_nn(num_neurons, train_features, train_labels)\n",
    "        accuracy.append(test_nn(mlp, test_features, test_labels))\n",
    "        \n",
    "    mean_accuracy = np.mean(accuracy)\n",
    "    return accuracy\n"
   ]
  },
  {
   "cell_type": "code",
   "execution_count": 10,
   "metadata": {},
   "outputs": [
    {
     "data": {
      "text/plain": [
       "[<matplotlib.lines.Line2D at 0x237f22e0c18>]"
      ]
     },
     "execution_count": 10,
     "metadata": {},
     "output_type": "execute_result"
    },
    {
     "data": {
      "image/png": "[encoded data removed]",
      "text/plain": [
       "<Figure size 432x288 with 1 Axes>"
      ]
     },
     "metadata": {},
     "output_type": "display_data"
    }
   ],
   "source": [
    "# Select the various number of hidden neuron values we'll be training with\n",
    "hidden_neurons = [(8,), (16,), (32,),  (64,),  (128,),  (256,)]\n",
    "mean_accuracy = []\n",
    "\n",
    "for neurons in hidden_neurons:\n",
    "    mean_accuracy.append(np.mean(cross_validate(data_sub, neurons)))\n",
    "\n",
    "plt.figure()\n",
    "plt.title(\"Mean Accuracy vs. Neurons in Single Hidden Layer\")\n",
    "\n",
    "x = [i[0] for i in hidden_neurons]\n",
    "plt.plot(x, mean_accuracy)"
   ]
  },
  {
   "cell_type": "markdown",
   "metadata": {},
   "source": [
    "### Observations\n",
    "\n",
    "It seems like adding more neurons to the hidden layer helps to improve accuracy from about 92.5% to 96%. Here we are using simple accuracy as a measure, only checking whether the classification was made correctly, with no consideration for false positives or true negatives. This accuracy is lower than the one seen in the K-Nearest Neighbors model so there isn't much reason to use a single layer network.\n",
    "\n",
    "### Neural Net with Two Hidden Layers"
   ]
  },
  {
   "cell_type": "code",
   "execution_count": 11,
   "metadata": {},
   "outputs": [
    {
     "data": {
      "text/plain": [
       "[<matplotlib.lines.Line2D at 0x237f250bcc0>]"
      ]
     },
     "execution_count": 11,
     "metadata": {},
     "output_type": "execute_result"
    },
    {
     "data": {
      "image/png": "[encoded data removed]",
      "text/plain": [
       "<Figure size 432x288 with 1 Axes>"
      ]
     },
     "metadata": {},
     "output_type": "display_data"
    }
   ],
   "source": [
    "# Attempt to make a neural net with two layers\n",
    "hidden_neurons = [(64, 64), (128,128), (256,256)]\n",
    "mean_accuracy_two = []\n",
    "\n",
    "for neurons in hidden_neurons:\n",
    "    mean_accuracy_two.append(np.mean(cross_validate(data_sub, neurons)))\n",
    "    \n",
    "plt.figure()\n",
    "plt.title(\"Mean Accuracy vs. Neurons In Two Hidden Layers\")\n",
    "\n",
    "x = [i[0] for i in hidden_neurons]\n",
    "plt.plot(x, mean_accuracy_two)"
   ]
  },
  {
   "cell_type": "markdown",
   "metadata": {},
   "source": [
    "Adding a second hidden layer leads to further increases in mean accuracy. This holds true across all three sizes of hidden layers. As a final extension, let's try adding a third hidden layer and see if the trend holds.\n",
    "\n",
    "### Neural Network with Three Hidden Layers"
   ]
  },
  {
   "cell_type": "code",
   "execution_count": 12,
   "metadata": {},
   "outputs": [],
   "source": [
    "def cross_validate(data, num_neurons):\n",
    "    accuracy = []\n",
    "    # Use KFold to split the data\n",
    "    knf = KFold(n_splits = 6, random_state = 2)\n",
    "    for train_index, test_index in knf.split(data):\n",
    "        train_features, test_features = data.loc[train_index], data.loc[test_index]\n",
    "        train_labels, test_labels = labels.loc[train_index], labels.loc[test_index]\n",
    "        \n",
    "        mlp = train_nn(num_neurons, train_features, train_labels)\n",
    "        accuracy.append(test_nn(mlp, test_features, test_labels))\n",
    "        \n",
    "    mean_accuracy = np.mean(accuracy)\n",
    "    return accuracy"
   ]
  },
  {
   "cell_type": "code",
   "execution_count": 13,
   "metadata": {},
   "outputs": [
    {
     "data": {
      "text/plain": [
       "[<matplotlib.lines.Line2D at 0x237f2261748>]"
      ]
     },
     "execution_count": 13,
     "metadata": {},
     "output_type": "execute_result"
    },
    {
     "data": {
      "image/png": "[encoded data removed]",
      "text/plain": [
       "<Figure size 432x288 with 1 Axes>"
      ]
     },
     "metadata": {},
     "output_type": "display_data"
    }
   ],
   "source": [
    "hidden_neurons = [(10,10,10), (64,64,64), (128,128,128)]\n",
    "mean_accuracy_three = []\n",
    "\n",
    "for neurons in hidden_neurons:\n",
    "    mean_accuracy_three.append(np.mean(cross_validate(data_sub, neurons)))\n",
    "    \n",
    "plt.figure()\n",
    "plt.title(\"Mean Accuracy vs. Neurons In Two Hidden Layers\")\n",
    "\n",
    "x = [i[0] for i in hidden_neurons]\n",
    "plt.plot(x, mean_accuracy_three)"
   ]
  },
  {
   "cell_type": "markdown",
   "metadata": {},
   "source": [
    "The accuracy of the model continues to increase for the same number of neurons per layer even with 6-fold cross validation. While the accuracy does increase for more complex networks, they will also require more time to train and run. Thus there is a tradeoff to consider between model complexity and performance.\n",
    "\n",
    "# Conclusion\n",
    "\n",
    "In this project we looked at different depths of neural networks for classifying images of handwritten digits. We found that increasing network complexity yielded higher accuracy, albeit with diminishing returns.  "
   ]
  }
 ],
 "metadata": {
  "anaconda-cloud": {},
  "kernelspec": {
   "display_name": "Python 3",
   "language": "python",
   "name": "python3"
  },
  "language_info": {
   "codemirror_mode": {
    "name": "ipython",
    "version": 3
   },
   "file_extension": ".py",
   "mimetype": "text/x-python",
   "name": "python",
   "nbconvert_exporter": "python",
   "pygments_lexer": "ipython3",
   "version": "3.6.5"
  }
 },
 "nbformat": 4,
 "nbformat_minor": 2
}
